{
  "nbformat": 4,
  "nbformat_minor": 0,
  "metadata": {
    "colab": {
      "provenance": []
    },
    "kernelspec": {
      "name": "python3",
      "display_name": "Python 3"
    },
    "language_info": {
      "name": "python"
    }
  },
  "cells": [
    {
      "cell_type": "markdown",
      "source": [
        "# Gini Index before splitting"
      ],
      "metadata": {
        "id": "JTKcSD-0AAPv"
      }
    },
    {
      "cell_type": "code",
      "execution_count": 16,
      "metadata": {
        "colab": {
          "base_uri": "https://localhost:8080/"
        },
        "id": "fLTXPdFL-MkL",
        "outputId": "b4545a1c-299a-4fff-eaa0-c30971109f9a"
      },
      "outputs": [
        {
          "output_type": "execute_result",
          "data": {
            "text/plain": [
              "0.3911111111111112"
            ]
          },
          "metadata": {},
          "execution_count": 16
        }
      ],
      "source": [
        "# Total samples\n",
        "n_total = 300\n",
        "pos_total = 220\n",
        "neg_total = 80\n",
        "\n",
        "# Probabilities\n",
        "p_pos = pos_total / n_total\n",
        "p_neg = neg_total / n_total\n",
        "\n",
        "# Gini index before split\n",
        "gini_before = 1 - (p_pos**2 + p_neg**2)\n",
        "gini_before"
      ]
    },
    {
      "cell_type": "markdown",
      "source": [
        "# Gini Index After splitting into two subsets"
      ],
      "metadata": {
        "id": "OC5PUKlRAL0E"
      }
    },
    {
      "cell_type": "code",
      "source": [
        "# Subset 1 (left): 90 positive, 10 negative\n",
        "n_left = 100\n",
        "pos_left = 90\n",
        "neg_left = 10\n",
        "\n",
        "# Subset 2 (right): 100 positive, 100 negative\n",
        "n_right = 200\n",
        "pos_right = 100\n",
        "neg_right = 100\n",
        "\n",
        "# Gini for left subset\n",
        "p_pos_left = pos_left / n_left\n",
        "p_neg_left = neg_left / n_left\n",
        "gini_left = 1 - (p_pos_left**2 + p_neg_left**2)\n",
        "\n",
        "# Gini for right subset\n",
        "p_pos_right = pos_right / n_right\n",
        "p_neg_right = neg_right / n_right\n",
        "gini_right = 1 - (p_pos_right**2 + p_neg_right**2)\n",
        "\n",
        "# Weighted Gini after split\n",
        "gini_weighted = (n_left / (n_left + n_right)) * gini_left + \\\n",
        "                (n_right / (n_left + n_right)) * gini_right\n",
        "\n",
        "gini_left, gini_right, gini_weighted"
      ],
      "metadata": {
        "colab": {
          "base_uri": "https://localhost:8080/"
        },
        "id": "B2X-Bst7-yPK",
        "outputId": "99d8b9d4-6ede-417a-a429-8e8659887027"
      },
      "execution_count": 17,
      "outputs": [
        {
          "output_type": "execute_result",
          "data": {
            "text/plain": [
              "(0.17999999999999994, 0.5, 0.3933333333333333)"
            ]
          },
          "metadata": {},
          "execution_count": 17
        }
      ]
    },
    {
      "cell_type": "markdown",
      "source": [
        "#SSE to determine best splitting point for x"
      ],
      "metadata": {
        "id": "EMtyrnawAzi_"
      }
    },
    {
      "cell_type": "code",
      "source": [
        "import pandas as pd\n",
        "\n",
        "# Data\n",
        "df = pd.DataFrame({\n",
        "    'X1': [1, 2, 3, 4, 5, 6, 7, 8],\n",
        "    'X2': [5, 6, 8,10,12,15,18,20],\n",
        "    'Y' : [10,12,15,18,21,25,28,30]\n",
        "})\n",
        "\n",
        "# Compute SSE for splitting `var` at threshold `t`\n",
        "def total_sse(df, var, t):\n",
        "    left  = df[df[var] <= t]['Y']\n",
        "    right = df[df[var] >  t]['Y']\n",
        "    return ((left  - left.mean())**2).sum() + ((right - right.mean())**2).sum()\n",
        "\n",
        "# Gather all candidate splits (midpoints of each feature's sorted values)\n",
        "candidates = []\n",
        "for var in ['X1','X2']:\n",
        "    vals = sorted(df[var].unique())\n",
        "    mids = [(a + b)/2 for a, b in zip(vals, vals[1:])]\n",
        "    for mid in mids:\n",
        "        candidates.append((var, mid, total_sse(df, var, mid)))\n",
        "\n",
        "# Find the best overall split\n",
        "best_var, best_thresh, best_sse = min(candidates, key=lambda x: x[2])\n",
        "\n",
        "# Display result\n",
        "print(f\"Best split overall: {best_var} ≤ {best_thresh} (total SSE = {best_sse:.2f})\")"
      ],
      "metadata": {
        "colab": {
          "base_uri": "https://localhost:8080/"
        },
        "id": "AhgePFzp_pw-",
        "outputId": "992937c4-c149-4646-be70-0f61b32e7209"
      },
      "execution_count": 18,
      "outputs": [
        {
          "output_type": "stream",
          "name": "stdout",
          "text": [
            "Best split overall: X1 ≤ 4.5 (total SSE = 82.75)\n"
          ]
        }
      ]
    },
    {
      "cell_type": "markdown",
      "source": [
        "# Constructing the First Regression‑Tree Split"
      ],
      "metadata": {
        "id": "5nMrAVMDBBoC"
      }
    },
    {
      "cell_type": "code",
      "source": [
        "# Compute leaf predictions\n",
        "left_mask  = df[best_var] <= best_thresh\n",
        "right_mask = df[best_var] >  best_thresh\n",
        "y_left  = df[left_mask]['Y'].mean()\n",
        "y_right = df[right_mask]['Y'].mean()\n",
        "\n",
        "# Output\n",
        "print(f\" - If {best_var} ≤ {best_thresh}: predict ŷ = {y_left:.2f}\")\n",
        "print(f\" - Else: predict ŷ = {y_right:.2f}\")"
      ],
      "metadata": {
        "colab": {
          "base_uri": "https://localhost:8080/"
        },
        "id": "7aRvEdTZ_yPG",
        "outputId": "fc4fd93d-bd5f-4917-c23d-7226cb81468a"
      },
      "execution_count": 19,
      "outputs": [
        {
          "output_type": "stream",
          "name": "stdout",
          "text": [
            " - If X1 ≤ 4.5: predict ŷ = 13.75\n",
            " - Else: predict ŷ = 26.00\n"
          ]
        }
      ]
    }
  ]
}