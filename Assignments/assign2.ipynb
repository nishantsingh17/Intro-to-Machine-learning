{
 "cells": [
  {
   "cell_type": "code",
   "execution_count": 5,
   "id": "a81c32fa",
   "metadata": {},
   "outputs": [
    {
     "name": "stdout",
     "output_type": "stream",
     "text": [
      "Gini before split: 0.391\n"
     ]
    }
   ],
   "source": [
    "# before split\n",
    "p_p = 220 / 300 #positive probability\n",
    "p_n = 80 / 300  #negative probability\n",
    "gini_bef = 1 - p_p**2 - p_n**2\n",
    "print(f\"Gini before split: {gini_bef:.3f}\")\n"
   ]
  },
  {
   "cell_type": "code",
   "execution_count": 6,
   "id": "300b6bff",
   "metadata": {},
   "outputs": [
    {
     "name": "stdout",
     "output_type": "stream",
     "text": [
      "Weighted Gini after split: 0.393\n"
     ]
    }
   ],
   "source": [
    "# After split\n",
    "gini_left = 1 - (0.9)**2 - (0.1)**2\n",
    "\n",
    "gini_right = 1 - (0.5)**2 - (0.5)**2\n",
    "\n",
    "weighted_gini = (100/300)*gini_left + (200/300)*gini_right\n",
    "print(f\"Weighted Gini after split: {weighted_gini:.3f}\")\n"
   ]
  },
  {
   "cell_type": "markdown",
   "id": "8d32cbc2",
   "metadata": {},
   "source": [
    "The Gini value increased so the split does not improve purity"
   ]
  },
  {
   "cell_type": "code",
   "execution_count": 15,
   "id": "739b72c1",
   "metadata": {},
   "outputs": [],
   "source": [
    "import matplotlib.pyplot as plt\n",
    "%matplotlib inline\n",
    "import pandas as pd\n",
    "import numpy as np"
   ]
  },
  {
   "cell_type": "code",
   "execution_count": null,
   "id": "6afefa7e",
   "metadata": {},
   "outputs": [],
   "source": [
    "\n",
    "#dataset\n",
    "data = pd.DataFrame({\n",
    "    'X1': [1,2,3,4,5,6,7,8],\n",
    "    'X2': [5,6,8,10,12,15,18,20],\n",
    "    'Y' : [10,12,15,18,21,25,28,30]\n",
    "})\n",
    "\n"
   ]
  },
  {
   "cell_type": "code",
   "execution_count": 21,
   "id": "23751f03",
   "metadata": {},
   "outputs": [],
   "source": [
    "def sse_(y):\n",
    "    mean_y = np.mean(y)\n",
    "    return np.sum((y - mean_y) ** 2)\n",
    "\n",
    "def best_split(x, y):\n",
    "    unique_values = sorted(data[x].unique())\n",
    "    best_sse = float('inf')\n",
    "    best_threshold = None\n",
    "    \n",
    "    for i in range(1, len(unique_values)):\n",
    "        threshold = (unique_values[i - 1] + unique_values[i]) / 2\n",
    "        \n",
    "        left_y = y[data[x] <= threshold]\n",
    "        right_y = y[data[x] > threshold]\n",
    "        \n",
    "        sse = sse_(left_y) + sse_(right_y)\n",
    "        \n",
    "        if sse < best_sse:\n",
    "            best_sse = sse\n",
    "            best_threshold = threshold\n",
    "            \n",
    "    return best_threshold, best_sse\n"
   ]
  },
  {
   "cell_type": "code",
   "execution_count": 22,
   "id": "08699a6f",
   "metadata": {},
   "outputs": [
    {
     "name": "stdout",
     "output_type": "stream",
     "text": [
      "Best split for X1: 4.5, SSE = 82.75\n",
      "Best split for X2: 11.0, SSE = 82.75\n"
     ]
    }
   ],
   "source": [
    "best_x1_split, sse_x1 = best_split('X1', data['Y'])\n",
    "best_x2_split, sse_x2 = best_split('X2', data['Y'])\n",
    "\n",
    "print(f\"Best split for X1: {best_x1_split}, SSE = {sse_x1:.2f}\")\n",
    "print(f\"Best split for X2: {best_x2_split}, SSE = {sse_x2:.2f}\")\n"
   ]
  },
  {
   "cell_type": "code",
   "execution_count": 23,
   "id": "7d5b6bc5",
   "metadata": {},
   "outputs": [
    {
     "name": "stdout",
     "output_type": "stream",
     "text": [
      "Left Node:\n",
      "    X1  X2   Y\n",
      "0   1   5  10\n",
      "1   2   6  12\n",
      "2   3   8  15\n",
      "3   4  10  18\n",
      "Right Node:\n",
      "    X1  X2   Y\n",
      "4   5  12  21\n",
      "5   6  15  25\n",
      "6   7  18  28\n",
      "7   8  20  30\n",
      "Predict 13.75 if X1 ≤ 4.5\n",
      "Predict 26.00 if X1 > 4.5\n"
     ]
    }
   ],
   "source": [
    "left = data[data['X1'] <= 4.5]\n",
    "right = data[data['X1'] > 4.5]\n",
    "\n",
    "print(\"Left Node:\\n\", left)\n",
    "print(\"Right Node:\\n\", right)\n",
    "\n",
    "# Predictions at each node\n",
    "mean_left = left['Y'].mean()\n",
    "mean_right = right['Y'].mean()\n",
    "\n",
    "print(f\"Predict {mean_left:.2f} if X1 ≤ 4.5\")\n",
    "print(f\"Predict {mean_right:.2f} if X1 > 4.5\")\n"
   ]
  },
  {
   "cell_type": "code",
   "execution_count": null,
   "id": "b0f2ba2f",
   "metadata": {},
   "outputs": [],
   "source": []
  }
 ],
 "metadata": {
  "kernelspec": {
   "display_name": "Python 3",
   "language": "python",
   "name": "python3"
  },
  "language_info": {
   "codemirror_mode": {
    "name": "ipython",
    "version": 3
   },
   "file_extension": ".py",
   "mimetype": "text/x-python",
   "name": "python",
   "nbconvert_exporter": "python",
   "pygments_lexer": "ipython3",
   "version": "3.10.0"
  }
 },
 "nbformat": 4,
 "nbformat_minor": 5
}
