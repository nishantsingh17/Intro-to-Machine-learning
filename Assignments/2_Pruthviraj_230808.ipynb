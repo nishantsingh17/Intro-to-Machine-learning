{
  "nbformat": 4,
  "nbformat_minor": 0,
  "metadata": {
    "colab": {
      "provenance": []
    },
    "kernelspec": {
      "name": "python3",
      "display_name": "Python 3"
    },
    "language_info": {
      "name": "python"
    }
  },
  "cells": [
    {
      "cell_type": "markdown",
      "source": [
        "**ASSIGNMENT 2**"
      ],
      "metadata": {
        "id": "hDO3zGWve0Jt"
      }
    },
    {
      "cell_type": "markdown",
      "source": [
        "Question 1"
      ],
      "metadata": {
        "id": "GSu1DqdLdSbj"
      }
    },
    {
      "cell_type": "code",
      "execution_count": 2,
      "metadata": {
        "colab": {
          "base_uri": "https://localhost:8080/"
        },
        "id": "xJBgIeYGdRj5",
        "outputId": "ef8917c5-5634-4b6b-e46f-59aceadfed3b"
      },
      "outputs": [
        {
          "output_type": "stream",
          "name": "stdout",
          "text": [
            "Gini before split: 0.3911\n",
            "Gini after split: 0.3933\n",
            " Split does not improve purity.\n"
          ]
        }
      ],
      "source": [
        "def gini_index(pos, neg):\n",
        "    total = pos + neg\n",
        "    if total == 0:\n",
        "        return 0\n",
        "    p_pos = pos / total\n",
        "    p_neg = neg / total\n",
        "    return 1 - p_pos**2 - p_neg**2\n",
        "\n",
        "total_pos = 220\n",
        "total_neg = 80\n",
        "gini_before = gini_index(total_pos, total_neg)\n",
        "print(\"Gini before split:\", round(gini_before, 4))\n",
        "\n",
        "left_pos = 90\n",
        "left_neg = 10\n",
        "gini_left = gini_index(left_pos, left_neg)\n",
        "right_pos = 100\n",
        "right_neg = 100\n",
        "gini_right = gini_index(right_pos, right_neg)\n",
        "\n",
        "total_samples = total_pos + total_neg\n",
        "left_weight = (left_pos + left_neg) / total_samples\n",
        "right_weight = (right_pos + right_neg) / total_samples\n",
        "gini_after = left_weight * gini_left + right_weight * gini_right\n",
        "\n",
        "print(\"Gini after split:\", round(gini_after, 4))\n",
        "\n",
        "# Conclusion\n",
        "if gini_after < gini_before:\n",
        "    print(\" Split improves purity.\")\n",
        "else:\n",
        "    print(\" Split does not improve purity.\")\n"
      ]
    },
    {
      "cell_type": "markdown",
      "source": [
        "  Question 2"
      ],
      "metadata": {
        "id": "D5lbUTd_eGHf"
      }
    },
    {
      "cell_type": "code",
      "source": [
        "import pandas as pd\n",
        "import numpy as np\n",
        "\n",
        "data = pd.DataFrame({\n",
        "    'X1': [1, 2, 3, 4, 5, 6, 7, 8],\n",
        "    'X2': [5, 6, 8, 10, 12, 15, 18, 20],\n",
        "    'Y':  [10,12,15,18,21,25,28,30]\n",
        "})\n",
        "\n",
        "split_points = [(data['X1'][i] + data['X1'][i+1]) / 2 for i in range(len(data['X1']) - 1)]\n",
        "\n",
        "def compute_sse(split_val):\n",
        "    left = data[data['X1'] <= split_val]\n",
        "    right = data[data['X1'] > split_val]\n",
        "\n",
        "    y_left_mean = left['Y'].mean()\n",
        "    y_right_mean = right['Y'].mean()\n",
        "\n",
        "    sse_left = ((left['Y'] - y_left_mean) ** 2).sum()\n",
        "    sse_right = ((right['Y'] - y_right_mean) ** 2).sum()\n",
        "\n",
        "    total_sse = sse_left + sse_right\n",
        "    return total_sse\n",
        "\n",
        "sse_results = {sp: compute_sse(sp) for sp in split_points}\n",
        "best_split = min(sse_results, key=sse_results.get)\n",
        "\n",
        "print(\"All split SSEs:\")\n",
        "for k, v in sse_results.items():\n",
        "    print(f\"Split at X1 = {k}: SSE = {v}\")\n",
        "\n",
        "print(f\"\\n Best split is at X1 = {best_split} with SSE = {sse_results[best_split]}\")\n"
      ],
      "metadata": {
        "colab": {
          "base_uri": "https://localhost:8080/"
        },
        "id": "HvfD4KTceIIL",
        "outputId": "c9436a2a-a6b2-41a3-ba78-f57d7ec69368"
      },
      "execution_count": 3,
      "outputs": [
        {
          "output_type": "stream",
          "name": "stdout",
          "text": [
            "All split SSEs:\n",
            "Split at X1 = 1.5: SSE = 271.42857142857144\n",
            "Split at X1 = 2.5: SSE = 172.83333333333331\n",
            "Split at X1 = 3.5: SSE = 109.86666666666666\n",
            "Split at X1 = 4.5: SSE = 82.75\n",
            "Split at X1 = 5.5: SSE = 91.46666666666667\n",
            "Split at X1 = 6.5: SSE = 160.83333333333331\n",
            "Split at X1 = 7.5: SSE = 265.7142857142857\n",
            "\n",
            " Best split is at X1 = 4.5 with SSE = 82.75\n"
          ]
        }
      ]
    }
  ]
}