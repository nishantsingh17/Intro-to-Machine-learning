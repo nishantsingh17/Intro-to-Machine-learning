{
  "nbformat": 4,
  "nbformat_minor": 0,
  "metadata": {
    "colab": {
      "provenance": []
    },
    "kernelspec": {
      "name": "python3",
      "display_name": "Python 3"
    },
    "language_info": {
      "name": "python"
    }
  },
  "cells": [
    {
      "cell_type": "markdown",
      "source": [
        "## Importing Important Libraries"
      ],
      "metadata": {
        "id": "rHFxLgjeyKvV"
      }
    },
    {
      "cell_type": "code",
      "source": [
        "import pandas as pd\n",
        "import numpy as np\n",
        "import matplotlib.pyplot as plt"
      ],
      "metadata": {
        "id": "agOQVZ9MyJH3"
      },
      "execution_count": 9,
      "outputs": []
    },
    {
      "cell_type": "markdown",
      "source": [
        "## Question 1"
      ],
      "metadata": {
        "id": "51bgsFCew0XQ"
      }
    },
    {
      "cell_type": "code",
      "execution_count": 10,
      "metadata": {
        "colab": {
          "base_uri": "https://localhost:8080/"
        },
        "id": "JbNTbWhdwQtG",
        "outputId": "580b3514-b030-4aa4-ae74-8fcb4c32a3ce"
      },
      "outputs": [
        {
          "output_type": "stream",
          "name": "stdout",
          "text": [
            "Gini before split: 0.3911\n",
            "Gini (Left subset): 0.1800\n",
            "Gini (Right subset): 0.5000\n",
            "Weighted Gini after split: 0.3933\n",
            "The split does NOT improve purity.\n"
          ]
        }
      ],
      "source": [
        "total = 300\n",
        "positive = 220\n",
        "negative = 80\n",
        "\n",
        "# Gini before split\n",
        "p_pos = positive / total\n",
        "p_neg = negative / total\n",
        "gini_before = 1 - p_pos**2 - p_neg**2\n",
        "print(f\"Gini before split: {gini_before:.4f}\")\n",
        "\n",
        "# Left subset\n",
        "left_total = 100\n",
        "left_pos = 90\n",
        "left_neg = 10\n",
        "p_left_pos = left_pos / left_total\n",
        "p_left_neg = left_neg / left_total\n",
        "gini_left = 1 - p_left_pos**2 - p_left_neg**2\n",
        "print(f\"Gini (Left subset): {gini_left:.4f}\")\n",
        "\n",
        "# Right subset\n",
        "right_total = 200\n",
        "right_pos = 100\n",
        "right_neg = 100\n",
        "p_right_pos = right_pos / right_total\n",
        "p_right_neg = right_neg / right_total\n",
        "gini_right = 1 - p_right_pos**2 - p_right_neg**2\n",
        "print(f\"Gini (Right subset): {gini_right:.4f}\")\n",
        "\n",
        "# Weighted Gini after split\n",
        "gini_split = (left_total / total) * gini_left + (right_total / total) * gini_right\n",
        "print(f\"Weighted Gini after split: {gini_split:.4f}\")\n",
        "\n",
        "# Conclusion\n",
        "if gini_split < gini_before:\n",
        "    print(\"The split improves purity.\")\n",
        "else:\n",
        "    print(\"The split does NOT improve purity.\")\n"
      ]
    },
    {
      "cell_type": "markdown",
      "source": [
        "## Question 2"
      ],
      "metadata": {
        "id": "d9gN4X6nw7U-"
      }
    },
    {
      "cell_type": "code",
      "source": [
        "data = pd.DataFrame({\n",
        "    'X1': [1, 2, 3, 4, 5, 6, 7, 8],\n",
        "    'X2': [5, 6, 8, 10, 12, 15, 18, 20],\n",
        "    'Y':  [10, 12, 15, 18, 21, 25, 28, 30]\n",
        "})\n",
        "\n",
        "# Identify split points (midpoints between consecutive values of X1)\n",
        "split_points = [(data['X1'][i] + data['X1'][i+1]) / 2 for i in range(len(data['X1']) - 1)]\n",
        "\n",
        "# Define function to compute SSE\n",
        "def compute_sse(y):\n",
        "    mean_y = np.mean(y)\n",
        "    return np.sum((y - mean_y) ** 2)\n",
        "\n",
        "# Evaluate all split points\n",
        "results = []\n",
        "for split in split_points:\n",
        "    left_y = data[data['X1'] <= split]['Y']\n",
        "    right_y = data[data['X1'] > split]['Y']\n",
        "    sse_left = compute_sse(left_y)\n",
        "    sse_right = compute_sse(right_y)\n",
        "    total_sse = sse_left + sse_right\n",
        "    results.append((split, sse_left, sse_right, total_sse))\n",
        "\n",
        "# Store and display results\n",
        "results_df = pd.DataFrame(results, columns=['Split', 'SSE_Left', 'SSE_Right', 'Total_SSE'])\n",
        "best_split = results_df.loc[results_df['Total_SSE'].idxmin()]\n",
        "\n",
        "# Output\n",
        "print(\"All split SSEs:\\n\", results_df)\n",
        "print(\"\\nBest split based on minimum SSE:\\n\", best_split)\n"
      ],
      "metadata": {
        "colab": {
          "base_uri": "https://localhost:8080/"
        },
        "id": "WdRVPPU5wh6R",
        "outputId": "99ee20c8-e584-4e0e-c0c9-776eb4c0bdd8"
      },
      "execution_count": 11,
      "outputs": [
        {
          "output_type": "stream",
          "name": "stdout",
          "text": [
            "All split SSEs:\n",
            "    Split    SSE_Left   SSE_Right   Total_SSE\n",
            "0    1.5    0.000000  271.428571  271.428571\n",
            "1    2.5    2.000000  170.833333  172.833333\n",
            "2    3.5   12.666667   97.200000  109.866667\n",
            "3    4.5   36.750000   46.000000   82.750000\n",
            "4    5.5   78.800000   12.666667   91.466667\n",
            "5    6.5  158.833333    2.000000  160.833333\n",
            "6    7.5  265.714286    0.000000  265.714286\n",
            "\n",
            "Best split based on minimum SSE:\n",
            " Split         4.50\n",
            "SSE_Left     36.75\n",
            "SSE_Right    46.00\n",
            "Total_SSE    82.75\n",
            "Name: 3, dtype: float64\n"
          ]
        }
      ]
    },
    {
      "cell_type": "code",
      "source": [
        "data = pd.DataFrame({\n",
        "    'X1': [1, 2, 3, 4, 5, 6, 7, 8],\n",
        "    'X2': [5, 6, 8, 10, 12, 15, 18, 20],\n",
        "    'Y':  [10, 12, 15, 18, 21, 25, 28, 30]\n",
        "})\n",
        "\n",
        "# Best split based on earlier SSE analysis\n",
        "split_value = 4.5\n",
        "\n",
        "# Split the data\n",
        "left_node = data[data['X1'] <= split_value]\n",
        "right_node = data[data['X1'] > split_value]\n",
        "\n",
        "# Calculate predictions for each node (mean of Y)\n",
        "left_prediction = left_node['Y'].mean()\n",
        "right_prediction = right_node['Y'].mean()\n",
        "\n",
        "# Print structure\n",
        "print(\"First Split of Regression Tree based on X1 <= 4.5:\")\n",
        "print(\"\\nIf X1 <= 4.5:\")\n",
        "print(f\"  Predict Y = {left_prediction:.2f}\")\n",
        "print(\"\\nElse (X1 > 4.5):\")\n",
        "print(f\"  Predict Y = {right_prediction:.2f}\")\n",
        "\n",
        "# Optional: attach predicted Y back to original data based on split\n",
        "data['Predicted_Y'] = data['X1'].apply(lambda x: left_prediction if x <= split_value else right_prediction)\n",
        "print(\"\\nData with Predictions:\\n\", data)\n"
      ],
      "metadata": {
        "colab": {
          "base_uri": "https://localhost:8080/"
        },
        "id": "PWyBetlbxfCG",
        "outputId": "d1696907-8735-4bcf-d227-e11cf43df4ae"
      },
      "execution_count": 12,
      "outputs": [
        {
          "output_type": "stream",
          "name": "stdout",
          "text": [
            "First Split of Regression Tree based on X1 <= 4.5:\n",
            "\n",
            "If X1 <= 4.5:\n",
            "  Predict Y = 13.75\n",
            "\n",
            "Else (X1 > 4.5):\n",
            "  Predict Y = 26.00\n",
            "\n",
            "Data with Predictions:\n",
            "    X1  X2   Y  Predicted_Y\n",
            "0   1   5  10        13.75\n",
            "1   2   6  12        13.75\n",
            "2   3   8  15        13.75\n",
            "3   4  10  18        13.75\n",
            "4   5  12  21        26.00\n",
            "5   6  15  25        26.00\n",
            "6   7  18  28        26.00\n",
            "7   8  20  30        26.00\n"
          ]
        }
      ]
    },
    {
      "cell_type": "code",
      "source": [
        "# Best split\n",
        "split_value = 4.5\n",
        "left_mean = data[data['X1'] <= split_value]['Y'].mean()\n",
        "right_mean = data[data['X1'] > split_value]['Y'].mean()\n",
        "\n",
        "# Scatter plot of actual data\n",
        "plt.figure(figsize=(8, 5))\n",
        "plt.scatter(data['X1'], data['Y'], color='blue', label='Actual Y')\n",
        "plt.axvline(x=split_value, color='red', linestyle='--', label='Split at X1 = 4.5')\n",
        "\n",
        "# Plot horizontal prediction lines\n",
        "plt.hlines(y=left_mean, xmin=min(data['X1']), xmax=split_value, color='green', label=f'Predict Y = {left_mean:.2f}')\n",
        "plt.hlines(y=right_mean, xmin=split_value, xmax=max(data['X1']), color='orange', label=f'Predict Y = {right_mean:.2f}')\n",
        "\n",
        "# Plot formatting\n",
        "plt.xlabel(\"X1\")\n",
        "plt.ylabel(\"Y\")\n",
        "plt.title(\"First Split of Regression Tree (X1)\")\n",
        "plt.legend()\n",
        "plt.grid(True)\n",
        "plt.tight_layout()\n",
        "plt.show()\n"
      ],
      "metadata": {
        "colab": {
          "base_uri": "https://localhost:8080/",
          "height": 507
        },
        "id": "6dLhYFn1yy1g",
        "outputId": "a5920c52-0d42-42ed-8111-3d5a405ce92f"
      },
      "execution_count": 13,
      "outputs": [
        {
          "output_type": "display_data",
          "data": {
            "text/plain": [
              "<Figure size 800x500 with 1 Axes>"
            ],
            "image/png": "[encoded data removed]"
          },
          "metadata": {}
        }
      ]
    },
    {
      "cell_type": "code",
      "source": [],
      "metadata": {
        "id": "OI4YaC49y2NY"
      },
      "execution_count": 13,
      "outputs": []
    }
  ]
}