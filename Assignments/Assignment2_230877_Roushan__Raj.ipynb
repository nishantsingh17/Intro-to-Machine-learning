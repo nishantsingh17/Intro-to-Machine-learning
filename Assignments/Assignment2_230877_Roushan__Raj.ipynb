{
  "nbformat": 4,
  "nbformat_minor": 0,
  "metadata": {
    "colab": {
      "provenance": []
    },
    "kernelspec": {
      "name": "python3",
      "display_name": "Python 3"
    },
    "language_info": {
      "name": "python"
    }
  },
  "cells": [
    {
      "cell_type": "markdown",
      "source": [
        "Q1."
      ],
      "metadata": {
        "id": "XlUOnrrf4Rr0"
      }
    },
    {
      "cell_type": "code",
      "execution_count": 1,
      "metadata": {
        "colab": {
          "base_uri": "https://localhost:8080/"
        },
        "id": "o6zXtBmO4F7L",
        "outputId": "60ef076b-4940-49d6-f5ac-93528234bc5e"
      },
      "outputs": [
        {
          "output_type": "stream",
          "name": "stdout",
          "text": [
            "(a) Gini index before split: 0.3911\n",
            "(b) Gini index after split (weighted): 0.3933\n",
            "The split does not improve purity.\n"
          ]
        }
      ],
      "source": [
        "def gini_index(pos, neg):\n",
        "    total = pos + neg\n",
        "    if total == 0:\n",
        "        return 0\n",
        "    p_pos = pos / total\n",
        "    p_neg = neg / total\n",
        "    return 1 - (p_pos ** 2 + p_neg ** 2)\n",
        "\n",
        "total_pos = 220\n",
        "total_neg = 80\n",
        "total_samples = total_pos + total_neg\n",
        "\n",
        "gini_before = gini_index(total_pos, total_neg)\n",
        "print(f\"(a) Gini index before split: {gini_before:.4f}\")\n",
        "\n",
        "left_pos, left_neg = 90, 10\n",
        "right_pos, right_neg = 100, 100\n",
        "\n",
        "gini_left = gini_index(left_pos, left_neg)\n",
        "gini_right = gini_index(right_pos, right_neg)\n",
        "\n",
        "total_left = left_pos + left_neg\n",
        "total_right = right_pos + right_neg\n",
        "\n",
        "weighted_gini = (total_left / total_samples) * gini_left + \\\n",
        "                (total_right / total_samples) * gini_right\n",
        "\n",
        "print(f\"(b) Gini index after split (weighted): {weighted_gini:.4f}\")\n",
        "\n",
        "if weighted_gini < gini_before:\n",
        "    print(\"The split improves purity.\")\n",
        "else:\n",
        "    print(\"The split does not improve purity.\")\n"
      ]
    },
    {
      "cell_type": "markdown",
      "source": [
        "Q2."
      ],
      "metadata": {
        "id": "JF_wuetV4Tfk"
      }
    },
    {
      "cell_type": "code",
      "source": [
        "import numpy as np\n",
        "import pandas as pd\n",
        "\n",
        "data = pd.DataFrame({\n",
        "    'X1': [1, 2, 3, 4, 5, 6, 7, 8],\n",
        "    'X2': [5, 6, 8, 10, 12, 15, 18, 20],\n",
        "    'Y':  [10, 12, 15, 18, 21, 25, 28, 30]\n",
        "})\n",
        "\n",
        "data = data.sort_values('X1').reset_index(drop=True)\n",
        "\n",
        "# Function\n",
        "def compute_sse(y_values):\n",
        "    mean_y = np.mean(y_values)\n",
        "    return np.sum((y_values - mean_y) ** 2)\n",
        "\n",
        "best_sse = float('inf')\n",
        "best_split = None\n",
        "\n",
        "print(\"Split Point\\tSSE Left\\tSSE Right\\tTotal SSE\")\n",
        "for i in range(1, len(data)):\n",
        "    split_val = (data.loc[i-1, 'X1'] + data.loc[i, 'X1']) / 2\n",
        "    left_y = data[data['X1'] <= split_val]['Y']\n",
        "    right_y = data[data['X1'] > split_val]['Y']\n",
        "\n",
        "    sse_left = compute_sse(left_y)\n",
        "    sse_right = compute_sse(right_y)\n",
        "    total_sse = sse_left + sse_right\n",
        "\n",
        "    print(f\"{split_val:.1f}\\t\\t{sse_left:.2f}\\t\\t{sse_right:.2f}\\t\\t{total_sse:.2f}\")\n",
        "\n",
        "    if total_sse < best_sse:\n",
        "        best_sse = total_sse\n",
        "        best_split = split_val\n",
        "\n",
        "print(f\"\\n Best split is at X1 = {best_split:.1f} with minimum total SSE = {best_sse:.2f}\")\n"
      ],
      "metadata": {
        "colab": {
          "base_uri": "https://localhost:8080/"
        },
        "id": "vyfXtoZL4WJQ",
        "outputId": "bf511e27-d27d-4e2e-ad65-41d49ef2bb41"
      },
      "execution_count": 2,
      "outputs": [
        {
          "output_type": "stream",
          "name": "stdout",
          "text": [
            "Split Point\tSSE Left\tSSE Right\tTotal SSE\n",
            "1.5\t\t0.00\t\t271.43\t\t271.43\n",
            "2.5\t\t2.00\t\t170.83\t\t172.83\n",
            "3.5\t\t12.67\t\t97.20\t\t109.87\n",
            "4.5\t\t36.75\t\t46.00\t\t82.75\n",
            "5.5\t\t78.80\t\t12.67\t\t91.47\n",
            "6.5\t\t158.83\t\t2.00\t\t160.83\n",
            "7.5\t\t265.71\t\t0.00\t\t265.71\n",
            "\n",
            " Best split is at X1 = 4.5 with minimum total SSE = 82.75\n"
          ]
        }
      ]
    }
  ]
}