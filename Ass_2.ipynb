{
  "nbformat": 4,
  "nbformat_minor": 0,
  "metadata": {
    "colab": {
      "provenance": [],
      "authorship_tag": "ABX9TyMyaN3ZJmkUc5Dn5OL6tHs3",
      "include_colab_link": true
    },
    "kernelspec": {
      "name": "python3",
      "display_name": "Python 3"
    },
    "language_info": {
      "name": "python"
    }
  },
  "cells": [
    {
      "cell_type": "markdown",
      "metadata": {
        "id": "view-in-github",
        "colab_type": "text"
      },
      "source": [
        "<a href=\"https://colab.research.google.com/github/Amit230124/Intro-to-Machine-learning/blob/main/Ass_2.ipynb\" target=\"_parent\"><img src=\"https://colab.research.google.com/assets/colab-badge.svg\" alt=\"Open In Colab\"/></a>"
      ]
    },
    {
      "cell_type": "markdown",
      "source": [
        "Question-1\n"
      ],
      "metadata": {
        "id": "uuEysiguAVxL"
      }
    },
    {
      "cell_type": "code",
      "execution_count": 1,
      "metadata": {
        "colab": {
          "base_uri": "https://localhost:8080/"
        },
        "id": "yALUKPPQ_8EE",
        "outputId": "fa3f18b7-f80f-4932-ff53-09ee86935c99"
      },
      "outputs": [
        {
          "output_type": "stream",
          "name": "stdout",
          "text": [
            "Gini before split: 0.391\n",
            "Gini left subset: 0.180\n",
            "Gini right subset: 0.500\n",
            "Weighted Gini after split: 0.393\n",
            "The split does NOT improve purity.\n"
          ]
        }
      ],
      "source": [
        "def gini_index(positive, negative):\n",
        "    total = positive + negative\n",
        "    if total == 0:\n",
        "        return 0\n",
        "    p_pos = positive / total\n",
        "    p_neg = negative / total\n",
        "    return 1 - (p_pos ** 2 + p_neg ** 2)\n",
        "\n",
        "total_pos = 220\n",
        "total_neg = 80\n",
        "total_samples = total_pos + total_neg\n",
        "\n",
        "gini_before = gini_index(total_pos, total_neg)\n",
        "print(f\"Gini before split: {gini_before:.3f}\")\n",
        "\n",
        "left_pos = 90\n",
        "left_neg = 10\n",
        "left_total = left_pos + left_neg\n",
        "gini_left = gini_index(left_pos, left_neg)\n",
        "\n",
        "right_pos = 100\n",
        "right_neg = 100\n",
        "right_total = right_pos + right_neg\n",
        "gini_right = gini_index(right_pos, right_neg)\n",
        "\n",
        "weighted_gini = (left_total / total_samples) * gini_left + \\\n",
        "                (right_total / total_samples) * gini_right\n",
        "\n",
        "print(f\"Gini left subset: {gini_left:.3f}\")\n",
        "print(f\"Gini right subset: {gini_right:.3f}\")\n",
        "print(f\"Weighted Gini after split: {weighted_gini:.3f}\")\n",
        "\n",
        "if weighted_gini < gini_before:\n",
        "    print(\"The split improves purity.\")\n",
        "else:\n",
        "    print(\"The split does NOT improve purity.\")\n"
      ]
    },
    {
      "cell_type": "markdown",
      "source": [
        "Question-2"
      ],
      "metadata": {
        "id": "7n-QU_g-Abrf"
      }
    },
    {
      "cell_type": "code",
      "source": [
        "import numpy as np\n",
        "import pandas as pd\n",
        "\n",
        "data = {\n",
        "    'X1': [1, 2, 3, 4, 5, 6, 7, 8],\n",
        "    'X2': [5, 6, 8, 10, 12, 15, 18, 20],\n",
        "    'Y':  [10, 12, 15, 18, 21, 25, 28, 30]\n",
        "}\n",
        "\n",
        "df = pd.DataFrame(data)\n",
        "\n",
        "def calculate_sse(split_value, feature, target='Y'):\n",
        "    left = df[df[feature] <= split_value][target]\n",
        "    right = df[df[feature] > split_value][target]\n",
        "\n",
        "    if len(left) == 0 or len(right) == 0:\n",
        "        return float('inf')  # avoid empty split\n",
        "\n",
        "    left_mean = left.mean()\n",
        "    right_mean = right.mean()\n",
        "\n",
        "    sse_left = ((left - left_mean) ** 2).sum()\n",
        "    sse_right = ((right - right_mean) ** 2).sum()\n",
        "\n",
        "    total_sse = sse_left + sse_right\n",
        "    return total_sse\n",
        "\n",
        "split_points = [(df['X1'][i] + df['X1'][i+1]) / 2 for i in range(len(df['X1']) - 1)]\n",
        "sse_results = {sp: calculate_sse(sp, 'X1') for sp in split_points}\n",
        "\n",
        "best_split = min(sse_results, key=sse_results.get)\n",
        "best_sse = sse_results[best_split]\n",
        "\n",
        "print(f\"Best split point on X1: {best_split}\")\n",
        "print(f\"Minimum SSE: {best_sse:.2f}\")\n",
        "\n",
        "left_group = df[df['X1'] <= best_split]\n",
        "right_group = df[df['X1'] > best_split]\n",
        "\n",
        "print(\"\\nRegression Tree First Split:\")\n",
        "print(f\"If X1 <= {best_split}: Predict Y = {left_group['Y'].mean():.2f}\")\n",
        "print(f\"Else: Predict Y = {right_group['Y'].mean():.2f}\")\n"
      ],
      "metadata": {
        "colab": {
          "base_uri": "https://localhost:8080/"
        },
        "id": "ZqLvRfx5Aga-",
        "outputId": "111f3097-0341-4ef3-fe3a-80369b1ba98a"
      },
      "execution_count": 2,
      "outputs": [
        {
          "output_type": "stream",
          "name": "stdout",
          "text": [
            "Best split point on X1: 4.5\n",
            "Minimum SSE: 82.75\n",
            "\n",
            "Regression Tree First Split:\n",
            "If X1 <= 4.5: Predict Y = 13.75\n",
            "Else: Predict Y = 26.00\n"
          ]
        }
      ]
    }
  ]
}